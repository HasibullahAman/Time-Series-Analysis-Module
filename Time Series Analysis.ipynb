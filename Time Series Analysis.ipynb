{
 "cells": [
  {
   "cell_type": "markdown",
   "id": "b31d40cf",
   "metadata": {},
   "source": [
    "# Time Series Analysis"
   ]
  },
  {
   "cell_type": "markdown",
   "id": "b485a183",
   "metadata": {},
   "source": [
    "## import Data\n",
    "-  have time order:mean it is in fix time.\n",
    "- defferent from cross-sectional data which happaned in one time or collected at a single point in time and do not have this temporal ordering\n",
    "- ARIMA: Autoregressive integrated moving average"
   ]
  },
  {
   "cell_type": "code",
   "execution_count": null,
   "id": "07fb3255",
   "metadata": {},
   "outputs": [],
   "source": []
  }
 ],
 "metadata": {
  "kernelspec": {
   "display_name": "Python 3 (ipykernel)",
   "language": "python",
   "name": "python3"
  },
  "language_info": {
   "codemirror_mode": {
    "name": "ipython",
    "version": 3
   },
   "file_extension": ".py",
   "mimetype": "text/x-python",
   "name": "python",
   "nbconvert_exporter": "python",
   "pygments_lexer": "ipython3",
   "version": "3.9.13"
  }
 },
 "nbformat": 4,
 "nbformat_minor": 5
}
